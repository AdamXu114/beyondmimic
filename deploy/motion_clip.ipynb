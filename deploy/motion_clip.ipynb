{
 "cells": [
  {
   "cell_type": "code",
   "execution_count": 1,
   "metadata": {},
   "outputs": [
    {
     "name": "stdout",
     "output_type": "stream",
     "text": [
      "Output directory: /home/xu/code/Beyondmimic/artifacts/walk1_subject1:v0\n"
     ]
    }
   ],
   "source": [
    "import numpy as np\n",
    "import os  # 导入 os 模块来处理路径\n",
    "\n",
    "# 1. 加载 .npz 文件\n",
    "file_path = '/home/xu/code/Beyondmimic/artifacts/walk1_subject1:v0/motion.npz'\n",
    "data = np.load(file_path)\n",
    "\n",
    "# 获取文件所在目录\n",
    "output_dir = os.path.dirname(file_path)  # 提取目录部分\n",
    "print(f\"Output directory: {output_dir}\")\n",
    "# 查看文件中包含哪些数组\n",
    "# print(\"Available arrays:\", list(data.keys()))"
   ]
  },
  {
   "cell_type": "code",
   "execution_count": 2,
   "metadata": {},
   "outputs": [
    {
     "name": "stdout",
     "output_type": "stream",
     "text": [
      "FPS: 50, Time step (dt): 0.0200 seconds\n"
     ]
    }
   ],
   "source": [
    "# 2. 获取帧率 fps 并转换为 Python 标量\n",
    "fps = data['fps'].item()  # 使用 .item() 提取标量\n",
    "dt = 1.0 / fps\n",
    "print(f\"FPS: {fps}, Time step (dt): {dt:.4f} seconds\")\n",
    "\n",
    "# 3. 定义要截取的时间范围 (秒)\n",
    "# time_ranges = [(0.0, 20.7)]\n",
    "time_ranges = [(0.0, 12.0)]"
   ]
  },
  {
   "cell_type": "code",
   "execution_count": 44,
   "metadata": {},
   "outputs": [
    {
     "name": "stdout",
     "output_type": "stream",
     "text": [
      "\n",
      "--- Processing segment 1: [0.0, 8.85] seconds ---\n",
      "Index range: [0, 442] (inclusive), Number of frames: 443\n",
      "Segment saved to '/home/xu/code/Beyondmimic/artifacts/walk1_subject1:v0/motion_segment_new_1.npz'\n",
      "\n",
      "Processing complete.\n"
     ]
    }
   ],
   "source": [
    "\n",
    "# 用于存储所有片段，以便后续拼接\n",
    "segments = []\n",
    "\n",
    "# 4. 为每个时间范围截取数据\n",
    "for i, (start_time, end_time) in enumerate(time_ranges):\n",
    "    print(f\"\\n--- Processing segment {i+1}: [{start_time}, {end_time}] seconds ---\")\n",
    "    \n",
    "    # 将时间转换为索引\n",
    "    start_idx = int(round(start_time / dt))\n",
    "    end_idx = int(round(end_time / dt)) + 1  # +1 to include the end frame\n",
    "\n",
    "    # 检查索引是否在有效范围内\n",
    "    total_frames = data['joint_pos'].shape[0]\n",
    "    if start_idx >= total_frames:\n",
    "        print(f\"Start time {start_time}s is beyond the data length. Skipping.\")\n",
    "        continue\n",
    "    end_idx = min(end_idx, total_frames)\n",
    "    \n",
    "    print(f\"Index range: [{start_idx}, {end_idx-1}] (inclusive), Number of frames: {end_idx - start_idx}\")\n",
    "    \n",
    "    # 截取所有数组\n",
    "    segment_data = {}\n",
    "    for key in data.keys():\n",
    "        if key == 'fps':\n",
    "            segment_data[key] = data[key]  # 保持为数组\n",
    "        else:\n",
    "            segment_data[key] = data[key][start_idx:end_idx]\n",
    "    \n",
    "    # 保存独立片段\n",
    "    base_name = os.path.splitext(os.path.basename(file_path))[0]  # 'motion'\n",
    "    output_filename = f\"{base_name}_segment_new_{i+1}.npz\"\n",
    "    full_output_path = os.path.join(output_dir, output_filename)\n",
    "    np.savez(full_output_path, **segment_data)\n",
    "    print(f\"Segment saved to '{full_output_path}'\")\n",
    "    \n",
    "    # 将当前片段数据存入列表，用于后续拼接\n",
    "    segments.append(segment_data)\n",
    "\n",
    "# 关闭原始文件\n",
    "data.close()\n",
    "\n",
    "print(\"\\nProcessing complete.\")"
   ]
  },
  {
   "cell_type": "code",
   "execution_count": 3,
   "metadata": {},
   "outputs": [
    {
     "name": "stdout",
     "output_type": "stream",
     "text": [
      "Original motion duration: 261.30 seconds\n",
      "Freeze at time 12.0s (index 600)\n",
      "Modified motion saved to '/home/xu/code/Beyondmimic/artifacts/walk1_subject1:v0/motion_frozen_2.npz'\n",
      "Shape of 'joint_pos' in new file: (13065, 29)\n",
      "\n",
      "--- Validation: Checking if last few frames are identical (frozen) ---\n",
      "Last 5 frames are identical: True\n",
      "\n",
      "Processing complete.\n"
     ]
    }
   ],
   "source": [
    "# 4. 定义“冻结”时间点\n",
    "freeze_time = time_ranges[0][1]  # 与 time_ranges[0][1] 一致\n",
    "total_frames_original = data['joint_pos'].shape[0]\n",
    "total_time_original = total_frames_original * dt\n",
    "print(f\"Original motion duration: {total_time_original:.2f} seconds\")\n",
    "\n",
    "# 将冻结时间转换为索引\n",
    "freeze_idx = int(round(freeze_time / dt))\n",
    "if freeze_idx >= total_frames_original:\n",
    "    print(f\"Warning: freeze_time {freeze_time}s exceeds data length {total_time_original}s. Using last frame.\")\n",
    "    freeze_idx = total_frames_original - 1\n",
    "\n",
    "print(f\"Freeze at time {freeze_time}s (index {freeze_idx})\")\n",
    "\n",
    "# 5. 创建新数据：前10秒用原始数据，之后冻结在10s的姿态\n",
    "modified_data = {}\n",
    "for key in data.keys():\n",
    "    if key == 'fps':\n",
    "        # fps 保持不变\n",
    "        modified_data[key] = data[key]\n",
    "    else:\n",
    "        original_array = data[key]  # 形状: (T_orig, ...)，T_orig 是原始总帧数\n",
    "        # 创建一个与原始数组形状相同的新数组\n",
    "        new_array = np.zeros_like(original_array)\n",
    "        \n",
    "        # 第一部分：[0, freeze_idx] 使用原始数据（即 0-10s）\n",
    "        new_array[:freeze_idx + 1] = original_array[:freeze_idx + 1]\n",
    "        \n",
    "        # 第二部分：[freeze_idx + 1, end] 全部复制 freeze_idx 时刻的那一帧\n",
    "        # 使用 [freeze_idx:freeze_idx+1] 来保持维度一致，便于广播复制\n",
    "        if freeze_idx + 1 < total_frames_original:\n",
    "            new_array[freeze_idx + 1:] = original_array[freeze_idx:freeze_idx + 1]\n",
    "        \n",
    "        modified_data[key] = new_array\n",
    "\n",
    "# 6. 保存修改后的数据到原目录\n",
    "base_name = os.path.splitext(os.path.basename(file_path))[0]  # 例如 'motion'\n",
    "output_filename = f\"{base_name}_frozen_2.npz\"\n",
    "full_output_path = os.path.join(output_dir, output_filename)\n",
    "\n",
    "np.savez(full_output_path, **modified_data)\n",
    "print(f\"Modified motion saved to '{full_output_path}'\")\n",
    "print(f\"Shape of 'joint_pos' in new file: {modified_data['joint_pos'].shape}\")\n",
    "\n",
    "# 7. （可选）验证：检查最后几帧是否完全相同（冻结成功）\n",
    "print(\"\\n--- Validation: Checking if last few frames are identical (frozen) ---\")\n",
    "joint_pos = modified_data['joint_pos']\n",
    "last_frame = joint_pos[-1]\n",
    "frames_to_check = joint_pos[-5:]  # 检查最后5帧\n",
    "\n",
    "all_same = all(np.allclose(last_frame, frame) for frame in frames_to_check)\n",
    "print(f\"Last 5 frames are identical: {all_same}\")\n",
    "\n",
    "# 8. 关闭原始文件\n",
    "data.close()\n",
    "\n",
    "print(\"\\nProcessing complete.\")"
   ]
  }
 ],
 "metadata": {
  "kernelspec": {
   "display_name": "base",
   "language": "python",
   "name": "python3"
  },
  "language_info": {
   "codemirror_mode": {
    "name": "ipython",
    "version": 3
   },
   "file_extension": ".py",
   "mimetype": "text/x-python",
   "name": "python",
   "nbconvert_exporter": "python",
   "pygments_lexer": "ipython3",
   "version": "3.12.4"
  }
 },
 "nbformat": 4,
 "nbformat_minor": 2
}
